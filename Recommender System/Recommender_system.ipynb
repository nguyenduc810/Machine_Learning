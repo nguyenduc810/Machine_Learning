{
 "cells": [
  {
   "cell_type": "code",
   "execution_count": 1,
   "metadata": {},
   "outputs": [],
   "source": [
    "path_data = 'E:\\\\Documents\\\\Năm 3\\\\Kì 2\\\\Hệ hỗ trợ quyết định\\\\project\\\\data\\\\lthing_data.tar.gz'"
   ]
  },
  {
   "cell_type": "markdown",
   "metadata": {},
   "source": [
    "# Load data"
   ]
  },
  {
   "cell_type": "markdown",
   "metadata": {},
   "source": [
    "## Book Rating data"
   ]
  },
  {
   "cell_type": "code",
   "execution_count": 2,
   "metadata": {},
   "outputs": [],
   "source": [
    "import tarfile"
   ]
  },
  {
   "cell_type": "code",
   "execution_count": null,
   "metadata": {},
   "outputs": [],
   "source": [
    "with tarfile.open(path_data) as tar:\n",
    "    print(\"Files in tar archive:\")\n",
    "    tar.list()\n",
    " \n",
    "    with tar.extractfile(\"lthing_data/reviews.json\") as file:\n",
    "        count = 0\n",
    "        for line in file:\n",
    "            print(line)\n",
    "            count += 1\n",
    "            if count > 3:\n",
    "                break"
   ]
  },
  {
   "cell_type": "code",
   "execution_count": 4,
   "metadata": {},
   "outputs": [
    {
     "name": "stdout",
     "output_type": "stream",
     "text": [
      "1387209 records retrieved\n"
     ]
    }
   ],
   "source": [
    "import ast\n",
    " \n",
    "reviews = []\n",
    "with tarfile.open(path_data) as tar:\n",
    "    with tar.extractfile(\"lthing_data/reviews.json\") as file:\n",
    "        for line in file:\n",
    "            record = ast.literal_eval(line.decode(\"utf8\"))\n",
    "            if any(x not in record for x in ['user', 'work', 'stars']):\n",
    "                continue\n",
    "            reviews.append([record['user'], record['work'], record['stars']])\n",
    "print(len(reviews), \"records retrieved\")\n"
   ]
  },
  {
   "cell_type": "code",
   "execution_count": 5,
   "metadata": {},
   "outputs": [
    {
     "name": "stdout",
     "output_type": "stream",
     "text": [
      "(1387209, 3)\n"
     ]
    }
   ],
   "source": [
    "import pandas as pd\n",
    "reviews = pd.DataFrame(reviews, columns=[\"user\", \"work\", \"stars\"])\n",
    "reviews_copy_0 = reviews\n",
    "print(reviews.shape)"
   ]
  },
  {
   "cell_type": "code",
   "execution_count": 6,
   "metadata": {},
   "outputs": [
    {
     "name": "stdout",
     "output_type": "stream",
     "text": [
      "            work\n",
      "user            \n",
      "              84\n",
      "-AlyssaE-     41\n",
      "-Eva-        602\n",
      "06nwingert   370\n",
      "0703          46\n",
      "...          ...\n",
      "zquilts       67\n",
      "zsms          33\n",
      "zwaantje     121\n",
      "zyabuko       30\n",
      "zzshupinga   246\n",
      "\n",
      "[8907 rows x 1 columns]\n"
     ]
    }
   ],
   "source": [
    "# Look for the users who reviewed more than 50 books\n",
    "usercount = reviews[[\"work\",\"user\"]].groupby(\"user\").count()\n",
    "usercount = usercount[usercount[\"work\"] >=30]\n",
    "print(usercount)"
   ]
  },
  {
   "cell_type": "code",
   "execution_count": 7,
   "metadata": {},
   "outputs": [],
   "source": [
    "usercount[\"user_ID\"] = range(len(usercount))"
   ]
  },
  {
   "cell_type": "code",
   "execution_count": 8,
   "metadata": {},
   "outputs": [],
   "source": [
    "usercount\n",
    "n_users = len(usercount)"
   ]
  },
  {
   "cell_type": "code",
   "execution_count": 9,
   "metadata": {},
   "outputs": [
    {
     "name": "stdout",
     "output_type": "stream",
     "text": [
      "user    int64\n",
      "dtype: object\n"
     ]
    }
   ],
   "source": [
    "...\n",
    "# Look for the books who reviewed by more than 50 users\n",
    "workcount = reviews[[\"work\",\"user\"]].groupby(\"work\").count()\n",
    "workcount = workcount[workcount[\"user\"] >= 30]\n",
    "print(workcount.dtypes)"
   ]
  },
  {
   "cell_type": "code",
   "execution_count": 10,
   "metadata": {},
   "outputs": [],
   "source": [
    "workcount['items_ID'] = range(len(workcount))"
   ]
  },
  {
   "cell_type": "code",
   "execution_count": 11,
   "metadata": {},
   "outputs": [
    {
     "data": {
      "text/html": [
       "<div>\n",
       "<style scoped>\n",
       "    .dataframe tbody tr th:only-of-type {\n",
       "        vertical-align: middle;\n",
       "    }\n",
       "\n",
       "    .dataframe tbody tr th {\n",
       "        vertical-align: top;\n",
       "    }\n",
       "\n",
       "    .dataframe thead th {\n",
       "        text-align: right;\n",
       "    }\n",
       "</style>\n",
       "<table border=\"1\" class=\"dataframe\">\n",
       "  <thead>\n",
       "    <tr style=\"text-align: right;\">\n",
       "      <th></th>\n",
       "      <th>user</th>\n",
       "      <th>items_ID</th>\n",
       "    </tr>\n",
       "    <tr>\n",
       "      <th>work</th>\n",
       "      <th></th>\n",
       "      <th></th>\n",
       "    </tr>\n",
       "  </thead>\n",
       "  <tbody>\n",
       "    <tr>\n",
       "      <th>10000</th>\n",
       "      <td>106</td>\n",
       "      <td>0</td>\n",
       "    </tr>\n",
       "    <tr>\n",
       "      <th>10001</th>\n",
       "      <td>53</td>\n",
       "      <td>1</td>\n",
       "    </tr>\n",
       "    <tr>\n",
       "      <th>1000167</th>\n",
       "      <td>186</td>\n",
       "      <td>2</td>\n",
       "    </tr>\n",
       "    <tr>\n",
       "      <th>10001797</th>\n",
       "      <td>53</td>\n",
       "      <td>3</td>\n",
       "    </tr>\n",
       "    <tr>\n",
       "      <th>10002</th>\n",
       "      <td>45</td>\n",
       "      <td>4</td>\n",
       "    </tr>\n",
       "    <tr>\n",
       "      <th>...</th>\n",
       "      <td>...</td>\n",
       "      <td>...</td>\n",
       "    </tr>\n",
       "    <tr>\n",
       "      <th>9993888</th>\n",
       "      <td>34</td>\n",
       "      <td>6012</td>\n",
       "    </tr>\n",
       "    <tr>\n",
       "      <th>9997</th>\n",
       "      <td>42</td>\n",
       "      <td>6013</td>\n",
       "    </tr>\n",
       "    <tr>\n",
       "      <th>9997232</th>\n",
       "      <td>64</td>\n",
       "      <td>6014</td>\n",
       "    </tr>\n",
       "    <tr>\n",
       "      <th>9998</th>\n",
       "      <td>66</td>\n",
       "      <td>6015</td>\n",
       "    </tr>\n",
       "    <tr>\n",
       "      <th>9998836</th>\n",
       "      <td>31</td>\n",
       "      <td>6016</td>\n",
       "    </tr>\n",
       "  </tbody>\n",
       "</table>\n",
       "<p>6017 rows × 2 columns</p>\n",
       "</div>"
      ],
      "text/plain": [
       "          user  items_ID\n",
       "work                    \n",
       "10000      106         0\n",
       "10001       53         1\n",
       "1000167    186         2\n",
       "10001797    53         3\n",
       "10002       45         4\n",
       "...        ...       ...\n",
       "9993888     34      6012\n",
       "9997        42      6013\n",
       "9997232     64      6014\n",
       "9998        66      6015\n",
       "9998836     31      6016\n",
       "\n",
       "[6017 rows x 2 columns]"
      ]
     },
     "execution_count": 11,
     "metadata": {},
     "output_type": "execute_result"
    }
   ],
   "source": [
    "workcount\n"
   ]
  },
  {
   "cell_type": "code",
   "execution_count": 12,
   "metadata": {},
   "outputs": [
    {
     "data": {
      "text/plain": [
       "6017"
      ]
     },
     "execution_count": 12,
     "metadata": {},
     "output_type": "execute_result"
    }
   ],
   "source": [
    "n_items = len(workcount)\n",
    "n_items"
   ]
  },
  {
   "cell_type": "code",
   "execution_count": 13,
   "metadata": {},
   "outputs": [],
   "source": [
    "...\n",
    "# Keep only the popular books and active users\n",
    "reviews = reviews[reviews[\"user\"].isin(usercount.index) & reviews[\"work\"].isin(workcount.index)]"
   ]
  },
  {
   "cell_type": "code",
   "execution_count": 14,
   "metadata": {},
   "outputs": [
    {
     "name": "stdout",
     "output_type": "stream",
     "text": [
      "                  user      work  stars\n",
      "0             van_stef   3206242    5.0\n",
      "3        Lila_Gustavus   5231009    3.0\n",
      "6              justine      3067    4.5\n",
      "10          curvymommy  13206089    3.5\n",
      "15         jwhenderson      1518    4.0\n",
      "...                ...       ...    ...\n",
      "1387177     BruderBane     24623    4.5\n",
      "1387182   whymaggiemay      7683    4.0\n",
      "1387192    StuartAston   8282225    4.0\n",
      "1387202        danielx   9759186    4.0\n",
      "1387206       jclark88   8253945    3.0\n",
      "\n",
      "[326781 rows x 3 columns]\n"
     ]
    }
   ],
   "source": [
    "print(reviews)"
   ]
  },
  {
   "cell_type": "code",
   "execution_count": 15,
   "metadata": {},
   "outputs": [],
   "source": [
    "reviews_copy = reviews"
   ]
  },
  {
   "cell_type": "code",
   "execution_count": 16,
   "metadata": {},
   "outputs": [
    {
     "data": {
      "text/plain": [
       "user     0\n",
       "work     0\n",
       "stars    0\n",
       "dtype: int64"
      ]
     },
     "execution_count": 16,
     "metadata": {},
     "output_type": "execute_result"
    }
   ],
   "source": [
    "reviews.isna().sum()"
   ]
  },
  {
   "cell_type": "code",
   "execution_count": 17,
   "metadata": {},
   "outputs": [
    {
     "data": {
      "text/html": [
       "<div>\n",
       "<style scoped>\n",
       "    .dataframe tbody tr th:only-of-type {\n",
       "        vertical-align: middle;\n",
       "    }\n",
       "\n",
       "    .dataframe tbody tr th {\n",
       "        vertical-align: top;\n",
       "    }\n",
       "\n",
       "    .dataframe thead th {\n",
       "        text-align: right;\n",
       "    }\n",
       "</style>\n",
       "<table border=\"1\" class=\"dataframe\">\n",
       "  <thead>\n",
       "    <tr style=\"text-align: right;\">\n",
       "      <th></th>\n",
       "      <th>user</th>\n",
       "      <th>work</th>\n",
       "      <th>stars</th>\n",
       "    </tr>\n",
       "  </thead>\n",
       "  <tbody>\n",
       "    <tr>\n",
       "      <th>0</th>\n",
       "      <td>van_stef</td>\n",
       "      <td>3206242</td>\n",
       "      <td>5.0</td>\n",
       "    </tr>\n",
       "    <tr>\n",
       "      <th>3</th>\n",
       "      <td>Lila_Gustavus</td>\n",
       "      <td>5231009</td>\n",
       "      <td>3.0</td>\n",
       "    </tr>\n",
       "    <tr>\n",
       "      <th>6</th>\n",
       "      <td>justine</td>\n",
       "      <td>3067</td>\n",
       "      <td>4.5</td>\n",
       "    </tr>\n",
       "    <tr>\n",
       "      <th>10</th>\n",
       "      <td>curvymommy</td>\n",
       "      <td>13206089</td>\n",
       "      <td>3.5</td>\n",
       "    </tr>\n",
       "    <tr>\n",
       "      <th>15</th>\n",
       "      <td>jwhenderson</td>\n",
       "      <td>1518</td>\n",
       "      <td>4.0</td>\n",
       "    </tr>\n",
       "    <tr>\n",
       "      <th>...</th>\n",
       "      <td>...</td>\n",
       "      <td>...</td>\n",
       "      <td>...</td>\n",
       "    </tr>\n",
       "    <tr>\n",
       "      <th>1387177</th>\n",
       "      <td>BruderBane</td>\n",
       "      <td>24623</td>\n",
       "      <td>4.5</td>\n",
       "    </tr>\n",
       "    <tr>\n",
       "      <th>1387182</th>\n",
       "      <td>whymaggiemay</td>\n",
       "      <td>7683</td>\n",
       "      <td>4.0</td>\n",
       "    </tr>\n",
       "    <tr>\n",
       "      <th>1387192</th>\n",
       "      <td>StuartAston</td>\n",
       "      <td>8282225</td>\n",
       "      <td>4.0</td>\n",
       "    </tr>\n",
       "    <tr>\n",
       "      <th>1387202</th>\n",
       "      <td>danielx</td>\n",
       "      <td>9759186</td>\n",
       "      <td>4.0</td>\n",
       "    </tr>\n",
       "    <tr>\n",
       "      <th>1387206</th>\n",
       "      <td>jclark88</td>\n",
       "      <td>8253945</td>\n",
       "      <td>3.0</td>\n",
       "    </tr>\n",
       "  </tbody>\n",
       "</table>\n",
       "<p>326781 rows × 3 columns</p>\n",
       "</div>"
      ],
      "text/plain": [
       "                  user      work  stars\n",
       "0             van_stef   3206242    5.0\n",
       "3        Lila_Gustavus   5231009    3.0\n",
       "6              justine      3067    4.5\n",
       "10          curvymommy  13206089    3.5\n",
       "15         jwhenderson      1518    4.0\n",
       "...                ...       ...    ...\n",
       "1387177     BruderBane     24623    4.5\n",
       "1387182   whymaggiemay      7683    4.0\n",
       "1387192    StuartAston   8282225    4.0\n",
       "1387202        danielx   9759186    4.0\n",
       "1387206       jclark88   8253945    3.0\n",
       "\n",
       "[326781 rows x 3 columns]"
      ]
     },
     "execution_count": 17,
     "metadata": {},
     "output_type": "execute_result"
    }
   ],
   "source": [
    "reviews_copy"
   ]
  },
  {
   "cell_type": "code",
   "execution_count": 18,
   "metadata": {},
   "outputs": [],
   "source": [
    "reviews_copy = pd.merge(reviews_copy, workcount, on= ['work'] )"
   ]
  },
  {
   "cell_type": "code",
   "execution_count": 19,
   "metadata": {},
   "outputs": [],
   "source": [
    "reviews_copy = reviews_copy.rename(columns={'user_x': 'user'})"
   ]
  },
  {
   "cell_type": "code",
   "execution_count": 20,
   "metadata": {},
   "outputs": [],
   "source": [
    "reviews_copy = pd.merge(reviews_copy, usercount, on= ['user'] )"
   ]
  },
  {
   "cell_type": "code",
   "execution_count": 21,
   "metadata": {},
   "outputs": [],
   "source": [
    "reviews_copy = reviews_copy.rename(columns={'work_x': 'work'})"
   ]
  },
  {
   "cell_type": "code",
   "execution_count": 23,
   "metadata": {},
   "outputs": [],
   "source": [
    "data = reviews_copy[['user_ID','items_ID','stars']].sort_values('user_ID')"
   ]
  },
  {
   "cell_type": "code",
   "execution_count": 24,
   "metadata": {},
   "outputs": [
    {
     "data": {
      "text/html": [
       "<div>\n",
       "<style scoped>\n",
       "    .dataframe tbody tr th:only-of-type {\n",
       "        vertical-align: middle;\n",
       "    }\n",
       "\n",
       "    .dataframe tbody tr th {\n",
       "        vertical-align: top;\n",
       "    }\n",
       "\n",
       "    .dataframe thead th {\n",
       "        text-align: right;\n",
       "    }\n",
       "</style>\n",
       "<table border=\"1\" class=\"dataframe\">\n",
       "  <thead>\n",
       "    <tr style=\"text-align: right;\">\n",
       "      <th></th>\n",
       "      <th>user_ID</th>\n",
       "      <th>items_ID</th>\n",
       "      <th>stars</th>\n",
       "    </tr>\n",
       "  </thead>\n",
       "  <tbody>\n",
       "    <tr>\n",
       "      <th>255223</th>\n",
       "      <td>0</td>\n",
       "      <td>2806</td>\n",
       "      <td>3.5</td>\n",
       "    </tr>\n",
       "    <tr>\n",
       "      <th>255221</th>\n",
       "      <td>0</td>\n",
       "      <td>1549</td>\n",
       "      <td>3.0</td>\n",
       "    </tr>\n",
       "    <tr>\n",
       "      <th>255222</th>\n",
       "      <td>0</td>\n",
       "      <td>2975</td>\n",
       "      <td>3.0</td>\n",
       "    </tr>\n",
       "    <tr>\n",
       "      <th>255224</th>\n",
       "      <td>0</td>\n",
       "      <td>233</td>\n",
       "      <td>4.0</td>\n",
       "    </tr>\n",
       "    <tr>\n",
       "      <th>255225</th>\n",
       "      <td>0</td>\n",
       "      <td>250</td>\n",
       "      <td>4.0</td>\n",
       "    </tr>\n",
       "  </tbody>\n",
       "</table>\n",
       "</div>"
      ],
      "text/plain": [
       "        user_ID  items_ID  stars\n",
       "255223        0      2806    3.5\n",
       "255221        0      1549    3.0\n",
       "255222        0      2975    3.0\n",
       "255224        0       233    4.0\n",
       "255225        0       250    4.0"
      ]
     },
     "execution_count": 24,
     "metadata": {},
     "output_type": "execute_result"
    }
   ],
   "source": [
    "data.head()"
   ]
  },
  {
   "cell_type": "code",
   "execution_count": 25,
   "metadata": {},
   "outputs": [],
   "source": [
    "data_copy = data"
   ]
  },
  {
   "cell_type": "code",
   "execution_count": 26,
   "metadata": {},
   "outputs": [],
   "source": [
    "val = data_copy.sample(frac=0.05,random_state= 42)"
   ]
  },
  {
   "cell_type": "code",
   "execution_count": 27,
   "metadata": {},
   "outputs": [
    {
     "data": {
      "text/html": [
       "<div>\n",
       "<style scoped>\n",
       "    .dataframe tbody tr th:only-of-type {\n",
       "        vertical-align: middle;\n",
       "    }\n",
       "\n",
       "    .dataframe tbody tr th {\n",
       "        vertical-align: top;\n",
       "    }\n",
       "\n",
       "    .dataframe thead th {\n",
       "        text-align: right;\n",
       "    }\n",
       "</style>\n",
       "<table border=\"1\" class=\"dataframe\">\n",
       "  <thead>\n",
       "    <tr style=\"text-align: right;\">\n",
       "      <th></th>\n",
       "      <th>user_ID</th>\n",
       "      <th>items_ID</th>\n",
       "      <th>stars</th>\n",
       "    </tr>\n",
       "  </thead>\n",
       "  <tbody>\n",
       "    <tr>\n",
       "      <th>65332</th>\n",
       "      <td>7244</td>\n",
       "      <td>795</td>\n",
       "      <td>3.0</td>\n",
       "    </tr>\n",
       "    <tr>\n",
       "      <th>168378</th>\n",
       "      <td>4309</td>\n",
       "      <td>2244</td>\n",
       "      <td>4.0</td>\n",
       "    </tr>\n",
       "    <tr>\n",
       "      <th>6843</th>\n",
       "      <td>2059</td>\n",
       "      <td>241</td>\n",
       "      <td>4.0</td>\n",
       "    </tr>\n",
       "    <tr>\n",
       "      <th>85818</th>\n",
       "      <td>4158</td>\n",
       "      <td>4273</td>\n",
       "      <td>5.0</td>\n",
       "    </tr>\n",
       "    <tr>\n",
       "      <th>131197</th>\n",
       "      <td>647</td>\n",
       "      <td>2381</td>\n",
       "      <td>2.0</td>\n",
       "    </tr>\n",
       "    <tr>\n",
       "      <th>...</th>\n",
       "      <td>...</td>\n",
       "      <td>...</td>\n",
       "      <td>...</td>\n",
       "    </tr>\n",
       "    <tr>\n",
       "      <th>32471</th>\n",
       "      <td>4762</td>\n",
       "      <td>2066</td>\n",
       "      <td>3.5</td>\n",
       "    </tr>\n",
       "    <tr>\n",
       "      <th>36817</th>\n",
       "      <td>459</td>\n",
       "      <td>4158</td>\n",
       "      <td>4.0</td>\n",
       "    </tr>\n",
       "    <tr>\n",
       "      <th>18802</th>\n",
       "      <td>7923</td>\n",
       "      <td>3177</td>\n",
       "      <td>4.0</td>\n",
       "    </tr>\n",
       "    <tr>\n",
       "      <th>311722</th>\n",
       "      <td>2987</td>\n",
       "      <td>4267</td>\n",
       "      <td>4.0</td>\n",
       "    </tr>\n",
       "    <tr>\n",
       "      <th>207068</th>\n",
       "      <td>4992</td>\n",
       "      <td>225</td>\n",
       "      <td>2.0</td>\n",
       "    </tr>\n",
       "  </tbody>\n",
       "</table>\n",
       "<p>16339 rows × 3 columns</p>\n",
       "</div>"
      ],
      "text/plain": [
       "        user_ID  items_ID  stars\n",
       "65332      7244       795    3.0\n",
       "168378     4309      2244    4.0\n",
       "6843       2059       241    4.0\n",
       "85818      4158      4273    5.0\n",
       "131197      647      2381    2.0\n",
       "...         ...       ...    ...\n",
       "32471      4762      2066    3.5\n",
       "36817       459      4158    4.0\n",
       "18802      7923      3177    4.0\n",
       "311722     2987      4267    4.0\n",
       "207068     4992       225    2.0\n",
       "\n",
       "[16339 rows x 3 columns]"
      ]
     },
     "execution_count": 27,
     "metadata": {},
     "output_type": "execute_result"
    }
   ],
   "source": [
    "val"
   ]
  },
  {
   "cell_type": "code",
   "execution_count": 28,
   "metadata": {},
   "outputs": [],
   "source": [
    "data_1 = data_copy.drop(val.index)"
   ]
  },
  {
   "cell_type": "code",
   "execution_count": 29,
   "metadata": {},
   "outputs": [
    {
     "data": {
      "text/html": [
       "<div>\n",
       "<style scoped>\n",
       "    .dataframe tbody tr th:only-of-type {\n",
       "        vertical-align: middle;\n",
       "    }\n",
       "\n",
       "    .dataframe tbody tr th {\n",
       "        vertical-align: top;\n",
       "    }\n",
       "\n",
       "    .dataframe thead th {\n",
       "        text-align: right;\n",
       "    }\n",
       "</style>\n",
       "<table border=\"1\" class=\"dataframe\">\n",
       "  <thead>\n",
       "    <tr style=\"text-align: right;\">\n",
       "      <th></th>\n",
       "      <th>user_ID</th>\n",
       "      <th>items_ID</th>\n",
       "      <th>stars</th>\n",
       "    </tr>\n",
       "  </thead>\n",
       "  <tbody>\n",
       "    <tr>\n",
       "      <th>255223</th>\n",
       "      <td>0</td>\n",
       "      <td>2806</td>\n",
       "      <td>3.5</td>\n",
       "    </tr>\n",
       "    <tr>\n",
       "      <th>255221</th>\n",
       "      <td>0</td>\n",
       "      <td>1549</td>\n",
       "      <td>3.0</td>\n",
       "    </tr>\n",
       "    <tr>\n",
       "      <th>255224</th>\n",
       "      <td>0</td>\n",
       "      <td>233</td>\n",
       "      <td>4.0</td>\n",
       "    </tr>\n",
       "    <tr>\n",
       "      <th>255225</th>\n",
       "      <td>0</td>\n",
       "      <td>250</td>\n",
       "      <td>4.0</td>\n",
       "    </tr>\n",
       "    <tr>\n",
       "      <th>255226</th>\n",
       "      <td>0</td>\n",
       "      <td>3908</td>\n",
       "      <td>4.0</td>\n",
       "    </tr>\n",
       "    <tr>\n",
       "      <th>...</th>\n",
       "      <td>...</td>\n",
       "      <td>...</td>\n",
       "      <td>...</td>\n",
       "    </tr>\n",
       "    <tr>\n",
       "      <th>277900</th>\n",
       "      <td>8906</td>\n",
       "      <td>4857</td>\n",
       "      <td>3.0</td>\n",
       "    </tr>\n",
       "    <tr>\n",
       "      <th>277901</th>\n",
       "      <td>8906</td>\n",
       "      <td>3045</td>\n",
       "      <td>5.0</td>\n",
       "    </tr>\n",
       "    <tr>\n",
       "      <th>277903</th>\n",
       "      <td>8906</td>\n",
       "      <td>470</td>\n",
       "      <td>5.0</td>\n",
       "    </tr>\n",
       "    <tr>\n",
       "      <th>277905</th>\n",
       "      <td>8906</td>\n",
       "      <td>874</td>\n",
       "      <td>4.0</td>\n",
       "    </tr>\n",
       "    <tr>\n",
       "      <th>277909</th>\n",
       "      <td>8906</td>\n",
       "      <td>3119</td>\n",
       "      <td>5.0</td>\n",
       "    </tr>\n",
       "  </tbody>\n",
       "</table>\n",
       "<p>310442 rows × 3 columns</p>\n",
       "</div>"
      ],
      "text/plain": [
       "        user_ID  items_ID  stars\n",
       "255223        0      2806    3.5\n",
       "255221        0      1549    3.0\n",
       "255224        0       233    4.0\n",
       "255225        0       250    4.0\n",
       "255226        0      3908    4.0\n",
       "...         ...       ...    ...\n",
       "277900     8906      4857    3.0\n",
       "277901     8906      3045    5.0\n",
       "277903     8906       470    5.0\n",
       "277905     8906       874    4.0\n",
       "277909     8906      3119    5.0\n",
       "\n",
       "[310442 rows x 3 columns]"
      ]
     },
     "execution_count": 29,
     "metadata": {},
     "output_type": "execute_result"
    }
   ],
   "source": [
    "data_1"
   ]
  },
  {
   "cell_type": "code",
   "execution_count": 30,
   "metadata": {},
   "outputs": [],
   "source": [
    "n_ratings = len(data_1)"
   ]
  },
  {
   "cell_type": "markdown",
   "metadata": {},
   "source": [
    "## Film Rating\n",
    " https://www.kaggle.com/datasets/kanametov/movies-recomendation-system?select=ratings.csv\n"
   ]
  },
  {
   "cell_type": "code",
   "execution_count": null,
   "metadata": {},
   "outputs": [],
   "source": [
    "#load data\n",
    "import pandas as pd\n",
    "data = pd.read_csv('data\\\\film_ratings\\\\ratings.csv')\n",
    "\n",
    "data_1 = data[:500000].sort_values(by=\"userId\")\n",
    "\n",
    "usercount_ = data_1[[\"userId\",\"movieId\"]].groupby(\"userId\").count()\n",
    "n_users = len(usercount_)\n",
    "print(usercount_)\n",
    "\n",
    "filmcount_ = data_1[[\"movieId\",\"userId\"]].groupby(\"movieId\").count()\n",
    "# workcount_ = workcount_[workcount_[\"userId\"] >= 200]\n",
    "n_items = len(filmcount_)\n",
    "\n",
    "filmcount_['movie_ID'] = range(len(filmcount_))\n",
    "\n",
    "data_1 = pd.merge(data_1, filmcount_, on= ['movieId'], how= 'left' )\n",
    "\n",
    "data_1 = data_1.rename(columns={'userId_x': 'user_ID'})\n",
    "\n",
    "data_1 = data_1[['user_ID','movie_ID','rating']]\n",
    "\n",
    "data_1['user_ID'] = data_1['user_ID'] - 1\n",
    "\n",
    "val_set = data_1.sample(frac=0.1,random_state= 42)\n",
    "data_train = data_1.drop(val_set.index)\n",
    "\n",
    "n_ratings = len(data_train)\n"
   ]
  },
  {
   "cell_type": "markdown",
   "metadata": {},
   "source": [
    "# Build Model"
   ]
  },
  {
   "cell_type": "code",
   "execution_count": 15,
   "metadata": {},
   "outputs": [],
   "source": [
    "import numpy as np\n",
    "from cv2 import erode"
   ]
  },
  {
   "cell_type": "code",
   "execution_count": null,
   "metadata": {},
   "outputs": [],
   "source": [
    "# model with bias\n",
    "class MF_1(object):\n",
    "    def __init__(self, Y_data, val_set, k, lam = 0.75, Q_init = None, P_init = None,n_users = None, n_items = None, learning_rate = 0.2, Max_iter = 1000, n_ratings = None,print_every = 10):\n",
    "        self.Y_data= Y_data.values\n",
    "        self.Y_val_set = val_set.values\n",
    "        self.lamda = lam\n",
    "        self.learning_rate = learning_rate\n",
    "        self.Max_iter = Max_iter\n",
    "        self.n_users = n_users\n",
    "        self.n_items = n_items\n",
    "        self.n_ratings = n_ratings\n",
    "        self.print_every = print_every\n",
    "        self.K = k\n",
    "        #init P, Q\n",
    "        if Q_init is not None:\n",
    "            self.Q = Q_init\n",
    "        else:\n",
    "            self.Q = np.random.normal(0.5, 0.5,size=(n_items, k))\n",
    "        if P_init is not None:\n",
    "            self.P = P_init\n",
    "        else:\n",
    "            self.P = np.random.normal(0.5, 0.5, size= (k, n_users))\n",
    "        # item biases\n",
    "        self.Y_data_raw = self.Y_data.copy()\n",
    "        self.val_set = self.Y_val_set.copy()\n",
    "        self.b = np.random.randn(self.n_items)\n",
    "        self.d = np.random.randn(self.n_users)\n",
    "        self.mu_g = np.mean(self.Y_data_raw[:,2])\n",
    "    def normalize_data(self):\n",
    "        n_objects = self.n_users\n",
    "\n",
    "        users = self.Y_data_raw[:, 0].astype(np.int32) \n",
    "        users_val = self.val_set[:,0].astype(np.int32)\n",
    "        self.mu = np.zeros((n_objects,))\n",
    "        for n in range(n_objects):\n",
    "            # row indices of rating done by user n\n",
    "            # since indices need to be integers, we need to convert\n",
    "            ids = np.where(users == n)[0].astype(np.int32)\n",
    "            # indices of all ratings associated with user n\n",
    "            item_ids = self.Y_data_raw[ids, 1] \n",
    "            # and the corresponding ratings \n",
    "            ratings = self.Y_data_raw[ids, 2]\n",
    "            # take mean\n",
    "            m = np.mean(ratings) \n",
    "            if np.isnan(m):\n",
    "                m = 0 # to avoid empty array and nan value\n",
    "            self.mu[n] = m\n",
    "            # normalize\n",
    "            self.Y_data_raw[ids, 2] = ratings - self.mu[n]\n",
    "        for n in range(n_objects):\n",
    "            # row indices of rating done by user n\n",
    "            # since indices need to be integers, we need to convert\n",
    "            ids = np.where(users_val == n)[0].astype(np.int32)\n",
    "            # indices of all ratings associated with user n\n",
    "            item_ids = self.val_set[ids, 1] \n",
    "            # and the corresponding ratings \n",
    "            ratings = self.val_set[ids, 2]\n",
    "            # take mean\n",
    "            # normalize\n",
    "            self.val_set[ids, 2] = ratings - self.mu[n]\n",
    "    # Compute loss function\n",
    "    def loss(self):\n",
    "        loss = 0\n",
    "        for i in range(self.n_ratings):\n",
    "            n, m , r = int(self.Y_data_raw[i, 0]), int(self.Y_data_raw[i,1]), self.Y_data_raw[i,2]\n",
    "            loss += (r - self.Q[m, :].dot(self.P[:, n]) - self.b[m] - self.d[n] - self.mu_g)**2\n",
    "        loss = loss/(2*self.n_ratings)\n",
    "        loss += 0.5*self.lamda* (np.linalg.norm(self.Q,'fro')**2 + np.linalg.norm(self.P, 'fro')**2+ np.linalg.norm(self.b)**2 + np.linalg.norm(self.d)**2)\n",
    "        return loss\n",
    "    \n",
    "    def get_items_rated_by_user(self, user_id):\n",
    "        \"\"\"\n",
    "        get all items which are rated by user and the corresponding ratings\n",
    "        \"\"\"\n",
    "        ids = np.where(self.Y_data_raw[:,0].astype(np.int32) == user_id)[0] \n",
    "        item_ids = self.Y_data_raw[ids, 1].astype(np.int32) # indices need to be integers\n",
    "        ratings = self.Y_data_raw[ids, 2]\n",
    "        return (item_ids, ratings)\n",
    "        \n",
    "        \n",
    "    def get_users_who_rate_item(self, item_id):\n",
    "        \"\"\"\n",
    "        get all users who rated item item_id and get the corresponding ratings\n",
    "        \"\"\"\n",
    "        ids = np.where(self.Y_data_raw[:,1].astype(np.int32) == item_id)[0] \n",
    "        user = self.Y_data_raw[ids, 0].astype(np.int32)\n",
    "        ratings = self.Y_data_raw[ids, 2]\n",
    "        return (user, ratings)\n",
    "    \n",
    "    # updated Q, P\n",
    "    def update_Q(self):\n",
    "        for m in range(self.n_items):\n",
    "            user, ratings = self.get_users_who_rate_item(m)\n",
    "            Pm = self.P[:, user]\n",
    "            error =  -(ratings - self.Q[m, :].dot(Pm) - self.b[m] - self.d[user] - self.mu_g)\n",
    "            # gradient\n",
    "            grad_qm = error.dot(Pm.T)/self.n_ratings + self.lamda*self.Q[m, :]\n",
    "            grad_bm = np.sum(error)/self.n_ratings + self.lamda*self.b[m]\n",
    "            self.Q[m, :] -= self.learning_rate*grad_qm.reshape((self.K,))\n",
    "            self.b[m] -= self.learning_rate*grad_bm\n",
    "    \n",
    "    def update_P(self):\n",
    "        for n in range(self.n_users):\n",
    "            item_ids, ratings = self.get_items_rated_by_user(n)\n",
    "            Qn = self.Q[item_ids, :]\n",
    "            bn = self.b[item_ids]\n",
    "            # gradient\n",
    "            error = ratings - Qn.dot(self.P[:, n]) - bn - self.d[n] - self.mu_g\n",
    "            grad_pn = -Qn.T.dot(error)/self.n_ratings + self.lamda*self.P[:, n]\n",
    "            grad_dn =  -np.sum(error)/self.n_ratings +self.lamda*self.d[n]\n",
    "            self.P[:, n] -= self.learning_rate*grad_pn.reshape((self.K,))\n",
    "            self.d[n] -= self.learning_rate*grad_dn\n",
    "\n",
    "    def fit(self):\n",
    "        self.normalize_data()\n",
    "        for it in range(self.Max_iter):\n",
    "            self.update_Q()\n",
    "            self.update_P()\n",
    "            if (it + 1) % self.print_every == 0:\n",
    "                rmse_train = self.evaluate_RMSE(self.Y_data)\n",
    "                rmse_val = self.evaluate_RMSE(self.Y_val_set)\n",
    "                print ('iter =', it + 1, ', loss =', self.loss(), ', RMSE train =', rmse_train, ', RMSE val = ', rmse_val)\n",
    "            if self.loss() <=0.01:\n",
    "                break\n",
    "    \n",
    "    def evaluate_RMSE(self, rate_test):\n",
    "        n_tests = rate_test.shape[0]\n",
    "        SE = 0 # squared error\n",
    "        for n in range(n_tests):\n",
    "            pred = self.pred(rate_test[n, 0], rate_test[n, 1])\n",
    "            SE += (pred - rate_test[n, 2])**2 \n",
    "\n",
    "        RMSE = np.sqrt(SE/n_tests)\n",
    "        return RMSE\n",
    "    def pred(self, u, i):\n",
    "        \"\"\" \n",
    "        predict the rating of user u for item i \n",
    "        if you need the un\n",
    "        \"\"\"\n",
    "        u = int(u)\n",
    "        i = int(i)\n",
    "        pred = self.Q[i, :].dot(self.P[:, u]) + self.b[i] + self.d[u] +self.mu[u] #+ self.mu_g \n",
    "        # truncate if results are out of range [0, 5]\n",
    "        if pred < 0:\n",
    "            return 0 \n",
    "        if pred > 5: \n",
    "            return 5 \n",
    "        return pred \n"
   ]
  },
  {
   "cell_type": "code",
   "execution_count": 17,
   "metadata": {},
   "outputs": [],
   "source": [
    "\n",
    "class MF(object):\n",
    "    def __init__(self, Y_data, val_set, k, lam = 0.75, Q_init = None, P_init = None,n_users = None, n_items = None, learning_rate = 0.2, Max_iter = 1000, n_ratings = None,print_every = 10):\n",
    "        self.Y_data = Y_data.values\n",
    "        self.Y_val_set = val_set.values\n",
    "        self.lamda = lam\n",
    "        self.learning_rate = learning_rate\n",
    "        self.Max_iter = Max_iter\n",
    "        self.n_users = n_users\n",
    "        self.n_items = n_items\n",
    "        self.n_ratings = n_ratings\n",
    "        self.print_every = print_every\n",
    "        self.K = k\n",
    "        #init X, W\n",
    "        if Q_init is not None:\n",
    "            self.Q = Q_init\n",
    "        else:\n",
    "            self.Q = np.random.normal(0.5, 0.5,size=(n_items, k))\n",
    "        if P_init is not None:\n",
    "            self.P = P_init\n",
    "        else:\n",
    "            self.P = np.random.normal(0.5, 0.5, size= (k, n_users))\n",
    "        self.Y_data_raw = self.Y_data.copy()\n",
    "        self.val_set = self.Y_val_set.copy()\n",
    "    def normalize_data(self):\n",
    "        n_objects = self.n_users\n",
    "        users = self.Y_data_raw[:, 0].astype(np.int32) \n",
    "        users_val = self.val_set[:,0].astype(np.int32)\n",
    "        self.mu = np.zeros((n_objects,))\n",
    "        for n in range(n_objects):\n",
    "            # row indices of rating done by user n\n",
    "            # since indices need to be integers, we need to convert\n",
    "            ids = np.where(users == n)[0].astype(np.int32)\n",
    "            # indices of all ratings associated with user n\n",
    "            item_ids = self.Y_data_raw[ids, 1] \n",
    "            # and the corresponding ratings \n",
    "            ratings = self.Y_data_raw[ids, 2]\n",
    "            # take mean\n",
    "            m = np.mean(ratings) \n",
    "            if np.isnan(m):\n",
    "                m = 0 # to avoid empty array and nan value\n",
    "            self.mu[n] = m\n",
    "            # normalize\n",
    "            self.Y_data_raw[ids, 2] = ratings - self.mu[n]\n",
    "    \n",
    "        for n in range(n_objects):\n",
    "            # row indices of rating done by user n\n",
    "            # since indices need to be integers, we need to convert\n",
    "            ids = np.where(users_val == n)[0].astype(np.int32)\n",
    "            # indices of all ratings associated with user n\n",
    "            item_ids = self.val_set[ids, 1] \n",
    "            # and the corresponding ratings \n",
    "            ratings = self.val_set[ids, 2]\n",
    "            # take mean\n",
    "            # normalize\n",
    "            self.val_set[ids, 2] = ratings - self.mu[n]\n",
    "            \n",
    "    # Compute loss function\n",
    "    def loss(self):\n",
    "        loss = 0\n",
    "        for i in range(self.n_ratings):\n",
    "            n, m , r = int(self.Y_data_raw[i, 0]), int(self.Y_data_raw[i,1]), self.Y_data_raw[i,2]\n",
    "            loss += (r - self.Q[m, :].dot(self.P[:, n]))**2\n",
    "        loss = loss/(2*self.n_ratings)\n",
    "        loss += 0.5*self.lamda* (np.linalg.norm(self.Q,'fro')**2 + np.linalg.norm(self.P, 'fro')**2)\n",
    "        return loss\n",
    "    \n",
    "    def get_items_rated_by_user(self, user_id):\n",
    "        \"\"\"\n",
    "        get all items which are rated by user and the corresponding ratings\n",
    "        \"\"\"\n",
    "        ids = np.where(self.Y_data_raw[:,0].astype(np.int32) == user_id)[0] \n",
    "        item_ids = self.Y_data_raw[ids, 1].astype(np.int32) # indices need to be integers\n",
    "        ratings = self.Y_data_raw[ids, 2]\n",
    "        return (item_ids, ratings)\n",
    "        \n",
    "        \n",
    "    def get_users_who_rate_item(self, item_id):\n",
    "        \"\"\"\n",
    "        get all users who rated item item_id and get the corresponding ratings\n",
    "        \"\"\"\n",
    "        ids = np.where(self.Y_data_raw[:,1].astype(np.int32) == item_id)[0] \n",
    "        user = self.Y_data_raw[ids, 0].astype(np.int32)\n",
    "        ratings = self.Y_data_raw[ids, 2]\n",
    "        return (user, ratings)\n",
    "    \n",
    "    # updated X, W\n",
    "    def update_Q(self):\n",
    "        for m in range(self.n_items):\n",
    "            user, ratings = self.get_users_who_rate_item(m)\n",
    "            Wm = self.P[:, user]\n",
    "            error =  -(ratings - self.Q[m, :].dot(Wm))\n",
    "            # gradient\n",
    "            grad_xm = error.dot(Wm.T)/self.n_ratings + self.lamda*self.Q[m, :]\n",
    "            #grad_bm = -np.sum(error)/self.n_ratings + self.lamda*self.b[m]\n",
    "            self.Q[m, :] -= self.learning_rate*grad_xm.reshape((self.K,))\n",
    "           # self.b[m] -= self.learning_rate*grad_bm\n",
    "    \n",
    "    def update_P(self):\n",
    "        for n in range(self.n_users):\n",
    "            item_ids, ratings = self.get_items_rated_by_user(n)\n",
    "            Xn = self.Q[item_ids, :]\n",
    "            #bn = self.b[item_ids]\n",
    "            # gradient\n",
    "            error = ratings - Xn.dot(self.P[:, n])\n",
    "            grad_wn = -Xn.T.dot(error)/self.n_ratings + self.lamda*self.P[:, n]\n",
    "            #grad_dn =  -np.sum(error)/self.n_ratings +self.lamda*self.d[n]\n",
    "            self.P[:, n] -= self.learning_rate*grad_wn.reshape((self.K,))\n",
    "           # self.d[n] -= self.learning_rate*grad_dn\n",
    "    def fit(self):\n",
    "        self.normalize_data()\n",
    "        for it in range(self.Max_iter):\n",
    "            self.update_Q()\n",
    "            self.update_P()\n",
    "            if (it + 1) % self.print_every == 0:\n",
    "                rmse_train = self.evaluate_RMSE(self.Y_data)\n",
    "                rmse_val = self.evaluate_RMSE(self.Y_val_set)\n",
    "                print ('iter =', it + 1, ', loss =', self.loss(), ', RMSE train =', rmse_train, ', RMSE val = ', rmse_val)\n",
    "            if self.loss() <=0.01:\n",
    "                break\n",
    "    \n",
    "    def evaluate_RMSE(self, rate_test):\n",
    "        n_tests = rate_test.shape[0]\n",
    "        SE = 0 # squared error\n",
    "        for n in range(n_tests):\n",
    "            pred = self.pred(rate_test[n, 0], rate_test[n, 1])\n",
    "            SE += (pred - rate_test[n, 2])**2 \n",
    "\n",
    "        RMSE = np.sqrt(SE/n_tests)\n",
    "        return RMSE\n",
    "    def pred(self, u, i):\n",
    "        \"\"\" \n",
    "        predict the rating of user u for item i \n",
    "        if you need the un\n",
    "        \"\"\"\n",
    "        u = int(u)\n",
    "        i = int(i)\n",
    "        # if self.user_based:\n",
    "        #     bias = self.mu[u]\n",
    "        # else: \n",
    "        #     bias = self.mu[i]\n",
    "        pred = self.Q[i, :].dot(self.P[:, u]) + self.mu[u] #+ self.b[i] + self.d[u]\n",
    "        #truncate if results are out of range [0, 5]\n",
    "        if pred < 0:\n",
    "            return 0 \n",
    "        if pred > 5: \n",
    "            return 5 \n",
    "        return pred \n",
    "        "
   ]
  },
  {
   "cell_type": "code",
   "execution_count": null,
   "metadata": {},
   "outputs": [],
   "source": [
    "FC  = MF(data_1, val, 25,lam= 0, n_users= n_users, n_items= n_items, n_ratings=n_ratings,print_every= 10, learning_rate= 2.5)\n",
    "FC.fit()"
   ]
  },
  {
   "cell_type": "code",
   "execution_count": null,
   "metadata": {},
   "outputs": [],
   "source": [
    "data_1[data_1[\"user_ID\" ]==5000]"
   ]
  },
  {
   "cell_type": "code",
   "execution_count": null,
   "metadata": {},
   "outputs": [],
   "source": [
    "FC.pred(5000, 2181)"
   ]
  },
  {
   "cell_type": "code",
   "execution_count": 21,
   "metadata": {},
   "outputs": [],
   "source": [
    "# save weights\n",
    "np.savetxt('Q.txt', FC.Q)"
   ]
  },
  {
   "cell_type": "code",
   "execution_count": 22,
   "metadata": {},
   "outputs": [],
   "source": [
    "np.savetxt('P.txt',FC.P)"
   ]
  }
 ],
 "metadata": {
  "kernelspec": {
   "display_name": "Python 3.9.7 64-bit",
   "language": "python",
   "name": "python3"
  },
  "language_info": {
   "codemirror_mode": {
    "name": "ipython",
    "version": 3
   },
   "file_extension": ".py",
   "mimetype": "text/x-python",
   "name": "python",
   "nbconvert_exporter": "python",
   "pygments_lexer": "ipython3",
   "version": "3.9.7"
  },
  "orig_nbformat": 4,
  "vscode": {
   "interpreter": {
    "hash": "23eba0557ee5fb1b8104f5245725beba7c00ec2ce9253a81f1cf2aa4740011f6"
   }
  }
 },
 "nbformat": 4,
 "nbformat_minor": 2
}
